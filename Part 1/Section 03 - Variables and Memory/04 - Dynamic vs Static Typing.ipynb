{
 "cells": [
  {
   "cell_type": "markdown",
   "metadata": {},
   "source": [
    "### Dynamic Typing"
   ]
  },
  {
   "cell_type": "markdown",
   "metadata": {},
   "source": [
    "Python is dynamically typed.\n",
    "\n",
    "This means that the type of a variable is simply the type of the object the variable name points to (references). The variable itself has no associated type."
   ]
  },
  {
   "cell_type": "code",
   "execution_count": 1,
   "metadata": {
    "collapsed": true
   },
   "outputs": [],
   "source": [
    "a = \"hello\""
   ]
  },
  {
   "cell_type": "code",
   "execution_count": 2,
   "metadata": {},
   "outputs": [
    {
     "data": {
      "text/plain": [
       "str"
      ]
     },
     "execution_count": 2,
     "metadata": {},
     "output_type": "execute_result"
    }
   ],
   "source": [
    "type(a)"
   ]
  },
  {
   "cell_type": "code",
   "execution_count": 3,
   "metadata": {
    "collapsed": true
   },
   "outputs": [],
   "source": [
    "a = 10"
   ]
  },
  {
   "cell_type": "code",
   "execution_count": 4,
   "metadata": {},
   "outputs": [
    {
     "data": {
      "text/plain": [
       "int"
      ]
     },
     "execution_count": 4,
     "metadata": {},
     "output_type": "execute_result"
    }
   ],
   "source": [
    "type(a)"
   ]
  },
  {
   "cell_type": "code",
   "execution_count": 5,
   "metadata": {
    "collapsed": true
   },
   "outputs": [],
   "source": [
    "a = lambda x: x**2"
   ]
  },
  {
   "cell_type": "code",
   "execution_count": 6,
   "metadata": {},
   "outputs": [
    {
     "data": {
      "text/plain": [
       "4"
      ]
     },
     "execution_count": 6,
     "metadata": {},
     "output_type": "execute_result"
    }
   ],
   "source": [
    "a(2)"
   ]
  },
  {
   "cell_type": "code",
   "execution_count": 7,
   "metadata": {},
   "outputs": [
    {
     "data": {
      "text/plain": [
       "function"
      ]
     },
     "execution_count": 7,
     "metadata": {},
     "output_type": "execute_result"
    }
   ],
   "source": [
    "type(a)"
   ]
  },
  {
   "cell_type": "markdown",
   "metadata": {},
   "source": [
    "As you can see from the above examples, the type of the variable ``a`` changed over time - in fact it was simply the type of the object ``a`` was referencing at that time. No type was ever attached to the variable name itself."
   ]
  },
  {
   "cell_type": "code",
   "execution_count": 1,
   "metadata": {
    "collapsed": true
   },
   "outputs": [
    {
     "name": "stdout",
     "output_type": "stream",
     "text": [
      "Disabling automatic garbage collection...\n",
      "\n",
      "=== First Assignment: String ===\n",
      "x = Hello Python\n",
      "Memory address of x: 0x1063aee70\n",
      "Type of x: <class 'str'>\n",
      "Reference count: 2\n",
      "\n",
      "=== Second Assignment: Integer ===\n",
      "x = 42\n",
      "Memory address of x: 0x103c4bb00\n",
      "Type of x: <class 'int'>\n",
      "Reference count: 1000000049\n",
      "\n",
      "=== Checking Original String Object ===\n",
      "Original string address: 0x1063aee70\n",
      "String object status: Not found\n",
      "String reference count: 1\n",
      "\n",
      "=== Creating List with Multiple References ===\n",
      "x = [1, 2, 3]\n",
      "Memory address of list: 0x1063b6180\n",
      "Initial reference count: 1\n",
      "\n",
      "After creating second reference 'y':\n",
      "Reference count: 2\n",
      "\n",
      "After creating third reference 'z':\n",
      "Reference count: 3\n",
      "\n",
      "=== Removing References ===\n",
      "After x = None:\n",
      "Reference count: 2\n",
      "\n",
      "After y = None:\n",
      "Reference count: 1\n",
      "\n",
      "After z = None:\n",
      "List object status: Not found\n",
      "\n",
      "=== Creating Circular References ===\n",
      "Node1 address: 0x1063af9d0\n",
      "Node2 address: 0x1063e6550\n",
      "Node1 reference count: 2\n",
      "Node2 reference count: 2\n",
      "\n",
      "=== Creating Orphaned Circular Reference ===\n",
      "After removing direct references:\n",
      "Node1 reference count: 1\n",
      "Node2 reference count: 1\n",
      "Node1 status: Object exists\n",
      "Node2 status: Object exists\n",
      "\n",
      "=== Running Manual Garbage Collection ===\n",
      "After garbage collection:\n",
      "Node1 status: Not found\n",
      "Node2 status: Not found\n",
      "\n",
      "=== Re-enabling Garbage Collection ===\n"
     ]
    }
   ],
   "source": [
    "import ctypes\n",
    "import gc\n",
    "\n",
    "# Helper function to check reference count without adding a reference\n",
    "def ref_count(address):\n",
    "    return ctypes.c_long.from_address(address).value\n",
    "\n",
    "# Helper function to check if an object still exists in memory\n",
    "def check_object_exists(object_id):\n",
    "    for obj in gc.get_objects():\n",
    "        if id(obj) == object_id:\n",
    "            return \"Object exists\"\n",
    "    return \"Not found\"\n",
    "\n",
    "# Turn off automatic garbage collection\n",
    "print(\"Disabling automatic garbage collection...\")\n",
    "gc.disable()\n",
    "\n",
    "# Let's create a variable and watch how its memory location changes\n",
    "print(\"\\n=== First Assignment: String ===\")\n",
    "x = \"Hello Python\"\n",
    "str_address = id(x)\n",
    "print(f\"x = {x}\")\n",
    "print(f\"Memory address of x: {hex(str_address)}\")\n",
    "print(f\"Type of x: {type(x)}\")\n",
    "print(f\"Reference count: {ref_count(str_address)}\")\n",
    "\n",
    "# Now change x to reference an integer\n",
    "print(\"\\n=== Second Assignment: Integer ===\")\n",
    "x = 42\n",
    "int_address = id(x)\n",
    "print(f\"x = {x}\")\n",
    "print(f\"Memory address of x: {hex(int_address)}\")\n",
    "print(f\"Type of x: {type(x)}\")\n",
    "print(f\"Reference count: {ref_count(int_address)}\")\n",
    "\n",
    "# Let's check if our original string object still exists\n",
    "print(\"\\n=== Checking Original String Object ===\")\n",
    "print(f\"Original string address: {hex(str_address)}\")\n",
    "print(f\"String object status: {check_object_exists(str_address)}\")\n",
    "print(f\"String reference count: {ref_count(str_address)}\")\n",
    "\n",
    "# Create a list and make multiple references to it\n",
    "print(\"\\n=== Creating List with Multiple References ===\")\n",
    "x = [1, 2, 3]\n",
    "list_address = id(x)\n",
    "print(f\"x = {x}\")\n",
    "print(f\"Memory address of list: {hex(list_address)}\")\n",
    "print(f\"Initial reference count: {ref_count(list_address)}\")\n",
    "\n",
    "# Create another reference to the same list\n",
    "y = x\n",
    "print(\"\\nAfter creating second reference 'y':\")\n",
    "print(f\"Reference count: {ref_count(list_address)}\")\n",
    "\n",
    "# And another reference\n",
    "z = y\n",
    "print(\"\\nAfter creating third reference 'z':\")\n",
    "print(f\"Reference count: {ref_count(list_address)}\")\n",
    "\n",
    "# Remove references one by one\n",
    "print(\"\\n=== Removing References ===\")\n",
    "x = None\n",
    "print(\"After x = None:\")\n",
    "print(f\"Reference count: {ref_count(list_address)}\")\n",
    "\n",
    "y = None\n",
    "print(\"\\nAfter y = None:\")\n",
    "print(f\"Reference count: {ref_count(list_address)}\")\n",
    "\n",
    "z = None\n",
    "print(\"\\nAfter z = None:\")\n",
    "print(f\"List object status: {check_object_exists(list_address)}\")\n",
    "\n",
    "# Now let's create some circular references\n",
    "print(\"\\n=== Creating Circular References ===\")\n",
    "class Node:\n",
    "    def __init__(self, name):\n",
    "        self.name = name\n",
    "        self.next = None\n",
    "\n",
    "# Create a circular linked list\n",
    "node1 = Node(\"First\")\n",
    "node2 = Node(\"Second\")\n",
    "node1.next = node2\n",
    "node2.next = node1\n",
    "\n",
    "# Store the memory addresses\n",
    "node1_address = id(node1)\n",
    "node2_address = id(node2)\n",
    "\n",
    "print(f\"Node1 address: {hex(node1_address)}\")\n",
    "print(f\"Node2 address: {hex(node2_address)}\")\n",
    "print(f\"Node1 reference count: {ref_count(node1_address)}\")\n",
    "print(f\"Node2 reference count: {ref_count(node2_address)}\")\n",
    "\n",
    "# Remove our references but keep the circular reference\n",
    "print(\"\\n=== Creating Orphaned Circular Reference ===\")\n",
    "node1 = None\n",
    "node2 = None\n",
    "\n",
    "print(\"After removing direct references:\")\n",
    "print(f\"Node1 reference count: {ref_count(node1_address)}\")\n",
    "print(f\"Node2 reference count: {ref_count(node2_address)}\")\n",
    "print(f\"Node1 status: {check_object_exists(node1_address)}\")\n",
    "print(f\"Node2 status: {check_object_exists(node2_address)}\")\n",
    "\n",
    "# Run garbage collection manually\n",
    "print(\"\\n=== Running Manual Garbage Collection ===\")\n",
    "gc.collect()\n",
    "\n",
    "print(\"After garbage collection:\")\n",
    "print(f\"Node1 status: {check_object_exists(node1_address)}\")\n",
    "print(f\"Node2 status: {check_object_exists(node2_address)}\")\n",
    "\n",
    "# Re-enable garbage collection\n",
    "print(\"\\n=== Re-enabling Garbage Collection ===\")\n",
    "gc.enable()"
   ]
  },
  {
   "cell_type": "code",
   "execution_count": null,
   "metadata": {},
   "outputs": [],
   "source": []
  }
 ],
 "metadata": {
  "kernelspec": {
   "display_name": "crypto-trading-aayYDQBR-py3.11",
   "language": "python",
   "name": "python3"
  },
  "language_info": {
   "codemirror_mode": {
    "name": "ipython",
    "version": 3
   },
   "file_extension": ".py",
   "mimetype": "text/x-python",
   "name": "python",
   "nbconvert_exporter": "python",
   "pygments_lexer": "ipython3",
   "version": "3.11.10"
  }
 },
 "nbformat": 4,
 "nbformat_minor": 2
}
